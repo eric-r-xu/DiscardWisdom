{
  "nbformat": 4,
  "nbformat_minor": 0,
  "metadata": {
    "colab": {
      "provenance": [],
      "gpuType": "T4",
      "authorship_tag": "ABX9TyO28OoQK8t/n87UM1LFGYDD",
      "include_colab_link": true
    },
    "kernelspec": {
      "name": "python3",
      "display_name": "Python 3"
    },
    "language_info": {
      "name": "python"
    }
  },
  "cells": [
    {
      "cell_type": "markdown",
      "metadata": {
        "id": "view-in-github",
        "colab_type": "text"
      },
      "source": [
        "<a href=\"https://colab.research.google.com/github/eric-r-xu/DiscardWisdom/blob/main/DiscardWisdom.ipynb\" target=\"_parent\"><img src=\"https://colab.research.google.com/assets/colab-badge.svg\" alt=\"Open In Colab\"/></a>"
      ]
    },
    {
      "cell_type": "code",
      "source": [
        "import cv2\n",
        "import sys\n",
        "from collections import defaultdict\n",
        "from google.colab import drive\n",
        "drive.mount(\"/content/drive\", force_remount=True)\n",
        "sys.path.append('/content/drive/MyDrive/mahjong')\n",
        "\n",
        "from image_utils import show_image, init_screenshot, find_and_mark_locations\n",
        "from file_utils import load_template_files, initialize_all_tiles\n",
        "from mahjong_checker import MahjongHandChecker\n",
        "\n",
        "for i in range(1, 11):\n",
        "\n",
        "    screenshot_path = f\"/content/drive/MyDrive/mahjong/screenshot_examples/{i}.png\"\n",
        "    template_dir = \"/content/drive/MyDrive/mahjong/hkmj_tile_templates/\"\n",
        "    print(f'\\n*** {i}.png ***\\n')\n",
        "    template_files = load_template_files(template_dir)\n",
        "\n",
        "    image, match_mask = init_screenshot(screenshot_path)\n",
        "    overlay = image.copy()\n",
        "    templates = {file: cv2.imread(file) for file in template_files}\n",
        "\n",
        "    tiles_found = defaultdict(int)\n",
        "    collective = defaultdict(int)\n",
        "    player_you = defaultdict(int)\n",
        "    player_left = defaultdict(int)\n",
        "    player_right = defaultdict(int)\n",
        "    player_across = defaultdict(int)\n",
        "    player_you_discardable = defaultdict(int)\n",
        "    player_you_melded = defaultdict(int)\n",
        "\n",
        "    for template_path, template_image in templates.items():\n",
        "        _template_id = template_path.split(\"/\")[-3:]\n",
        "        _player, _type, _tile = (\n",
        "            _template_id[0],\n",
        "            _template_id[1],\n",
        "            _template_id[2].replace(\".png\", \"\"),\n",
        "        )\n",
        "        if template_image is None:\n",
        "            print(f\"Error: Could not read the template image at {template_path}\")\n",
        "            continue\n",
        "        found_tiles = find_and_mark_locations(template_image, image, overlay, match_mask)\n",
        "        if found_tiles > 0:\n",
        "            # print('..................................................')\n",
        "            tiles_found[_tile] += found_tiles\n",
        "            exec(f\"{_player}['{_tile}'] += {found_tiles}\")\n",
        "            if _type == \"discardable\" and _player=='player_you':\n",
        "                player_you_discardable[_tile] += found_tiles\n",
        "            if _type == \"melded\" and _player=='player_you':\n",
        "                player_you_melded[_tile] += found_tiles\n",
        "\n",
        "    highlight_image = cv2.addWeighted(overlay, 0.5, image, 0.5, 0)\n",
        "    show_image(highlight_image, 0.3)\n",
        "\n",
        "    all_tiles = initialize_all_tiles()\n",
        "\n",
        "    for tile, num_tiles in collective.items():\n",
        "        all_tiles[tile] -= num_tiles\n",
        "\n",
        "    checker = MahjongHandChecker(player_you_discardable, player_you, all_tiles)\n",
        "\n",
        "    discard_scores = checker.gen_discard_scores()\n",
        "    print(\"\\nRecommended tiles to discard ranked from most recommended to least:\\n\")\n",
        "    for tile, score in sorted(discard_scores.items(), key=lambda item: item[1], reverse=True):\n",
        "        if player_you_discardable[tile] > 0:\n",
        "            print(f\"{tile}: {score}\")\n",
        "\n",
        "    print(f'player_you_melded: {player_you_melded}')\n",
        "    print(f'player_you_discardable: {player_you_discardable}')\n",
        "    print('\\n-----------------------------------------------\\n')"
      ],
      "metadata": {
        "colab": {
          "base_uri": "https://localhost:8080/"
        },
        "id": "iS5ljrfRSm8A",
        "outputId": "51c6d700-dc65-4332-8c95-fe6a7aed3dee"
      },
      "execution_count": null,
      "outputs": [
        {
          "output_type": "stream",
          "name": "stdout",
          "text": [
            "Mounted at /content/drive\n",
            "\n",
            "*** 1.png ***\n",
            "\n"
          ]
        }
      ]
    }
  ]
}